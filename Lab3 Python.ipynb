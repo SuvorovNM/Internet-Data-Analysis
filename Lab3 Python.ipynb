{
 "cells": [
  {
   "cell_type": "code",
   "execution_count": 97,
   "metadata": {},
   "outputs": [],
   "source": [
    "import urllib3\n",
    "import re\n",
    "import requests\n",
    "from bs4 import BeautifulSoup\n",
    "from pprint import pprint\n",
    "from statistics import mean"
   ]
  },
  {
   "cell_type": "markdown",
   "metadata": {},
   "source": [
    "## Получение всех правок"
   ]
  },
  {
   "cell_type": "code",
   "execution_count": 106,
   "metadata": {},
   "outputs": [],
   "source": [
    "def GetRevisions(pageTitle):\n",
    "    url = \"https://en.wikipedia.org/w/api.php?action=query&format=xml&prop=revisions&rvlimit=500&titles=\" + pageTitle\n",
    "    revisions = [] # Правки                                        \n",
    "    next = '' # параметр для следующего URL - определяется по ИД последней просмотренной правки                                            \n",
    "    while True:\n",
    "        response = requests.get(url + next)\n",
    "        revisions += re.findall('<rev [^>]*>', str(response.content)) # добавление всех правок в список\n",
    "        cont = re.search('<continue rvcontinue=\"([^\"]+)\"', str(response.content))\n",
    "        if not cont: # если переход далее невозможен, то останавливаем                                      \n",
    "            break\n",
    "        next = \"&rvcontinue=\" + cont.group(1) # определяем ID на котором окончился поиск\n",
    "    return revisions;"
   ]
  },
  {
   "cell_type": "code",
   "execution_count": 107,
   "metadata": {},
   "outputs": [],
   "source": [
    "revs = GetRevisions(\"Python_(programming_language)\")"
   ]
  },
  {
   "cell_type": "markdown",
   "metadata": {},
   "source": [
    "### Получение всех IP-адресов"
   ]
  },
  {
   "cell_type": "code",
   "execution_count": 108,
   "metadata": {},
   "outputs": [],
   "source": [
    "ips = []\n",
    "for elem in revs:\n",
    "    ips += re.findall(r'\\\"\\d{1,3}\\.\\d{1,3}\\.\\d{1,3}\\.\\d{1,3}\\\"', elem)"
   ]
  },
  {
   "cell_type": "code",
   "execution_count": 53,
   "metadata": {},
   "outputs": [],
   "source": [
    "ips_sample = ips[:250]"
   ]
  },
  {
   "cell_type": "code",
   "execution_count": 55,
   "metadata": {},
   "outputs": [],
   "source": [
    "countries = dict()"
   ]
  },
  {
   "cell_type": "markdown",
   "metadata": {},
   "source": [
    "## Составление словаря (Страна, кол-во вхождений)"
   ]
  },
  {
   "cell_type": "code",
   "execution_count": 70,
   "metadata": {},
   "outputs": [],
   "source": [
    "for elem in ips_sample:\n",
    "    url = \"http://api.ipstack.com/\"+elem.replace(r'\"', '')+\"?access_key=f173866b81b8388a37abc474bae4f1b8\"\n",
    "    request = requests.get(url)\n",
    "    obj = request.json()\n",
    "    if countries.get(obj[\"country_name\"]) == None:\n",
    "        countries.update({obj[\"country_name\"] : 1})\n",
    "    else:\n",
    "        countries[obj[\"country_name\"]] = countries[obj[\"country_name\"]] + 1"
   ]
  },
  {
   "cell_type": "code",
   "execution_count": 71,
   "metadata": {},
   "outputs": [
    {
     "data": {
      "text/plain": [
       "{'United States': 39,\n",
       " 'India': 72,\n",
       " 'United Kingdom': 33,\n",
       " 'Israel': 1,\n",
       " 'Latvia': 1,\n",
       " 'Egypt': 1,\n",
       " 'Canada': 6,\n",
       " 'Pakistan': 1,\n",
       " 'Iran': 1,\n",
       " 'Spain': 3,\n",
       " 'Croatia': 2,\n",
       " 'Australia': 7,\n",
       " 'Myanmar (Burma)': 1,\n",
       " 'Sweden': 35,\n",
       " 'Argentina': 9,\n",
       " 'Rwanda': 1,\n",
       " 'Germany': 2,\n",
       " 'Belgium': 6,\n",
       " 'Taiwan': 4,\n",
       " 'United Arab Emirates': 3,\n",
       " 'Switzerland': 1,\n",
       " 'Congo - Kinshasa': 1,\n",
       " 'Malawi': 1,\n",
       " 'Lebanon': 1,\n",
       " 'Turkey': 2,\n",
       " 'Bolivia': 1,\n",
       " 'Singapore': 1,\n",
       " 'Morocco': 3,\n",
       " 'Russia': 6,\n",
       " 'Greece': 1,\n",
       " 'Hong Kong SAR China': 1,\n",
       " 'France': 1,\n",
       " 'Indonesia': 3,\n",
       " 'Philippines': 1}"
      ]
     },
     "execution_count": 71,
     "metadata": {},
     "output_type": "execute_result"
    }
   ],
   "source": [
    "countries"
   ]
  },
  {
   "cell_type": "markdown",
   "metadata": {},
   "source": [
    "### Сортировка словаря и вывод стран по убыванию"
   ]
  },
  {
   "cell_type": "code",
   "execution_count": 73,
   "metadata": {},
   "outputs": [
    {
     "name": "stdout",
     "output_type": "stream",
     "text": [
      "India 72\n",
      "United States 39\n",
      "Sweden 35\n",
      "United Kingdom 33\n",
      "Argentina 9\n",
      "Australia 7\n",
      "Canada 6\n",
      "Belgium 6\n",
      "Russia 6\n",
      "Taiwan 4\n",
      "Spain 3\n",
      "United Arab Emirates 3\n",
      "Morocco 3\n",
      "Indonesia 3\n",
      "Croatia 2\n",
      "Germany 2\n",
      "Turkey 2\n",
      "Israel 1\n",
      "Latvia 1\n",
      "Egypt 1\n",
      "Pakistan 1\n",
      "Iran 1\n",
      "Myanmar (Burma) 1\n",
      "Rwanda 1\n",
      "Switzerland 1\n",
      "Congo - Kinshasa 1\n",
      "Malawi 1\n",
      "Lebanon 1\n",
      "Bolivia 1\n",
      "Singapore 1\n",
      "Greece 1\n",
      "Hong Kong SAR China 1\n",
      "France 1\n",
      "Philippines 1\n"
     ]
    }
   ],
   "source": [
    "for k in sorted(countries, key=countries.get, reverse=True):\n",
    "    print(k + \" \" + str(countries[k]))"
   ]
  },
  {
   "cell_type": "markdown",
   "metadata": {},
   "source": [
    "### Подсчет средней з/п по предложению"
   ]
  },
  {
   "cell_type": "code",
   "execution_count": 111,
   "metadata": {},
   "outputs": [],
   "source": [
    "def GetSalaries():\n",
    "    url = 'https://api.hh.ru/vacancies?industry=7.540&currency=RUR&text=Python&per_page=10&page=0'\n",
    "    request = requests.get(url)\n",
    "    pages = request.json().get('pages')\n",
    "    salaries = []\n",
    "    for i in range(pages):\n",
    "        url = 'https://api.hh.ru/vacancies?industry=7.540&currency=RUR&text=Python&per_page=10&page='+ str(i)\n",
    "        request = requests.get(url)\n",
    "        page = request.json()\n",
    "        for item in page.get('items'):\n",
    "            if item['salary'] != None:\n",
    "                salary = 0\n",
    "                times = 0\n",
    "                if item['salary']['from'] != None:\n",
    "                    salary += int(item['salary']['from'])\n",
    "                    times += 1\n",
    "                if item['salary']['to'] != None:\n",
    "                    salary += int(item['salary']['to'])\n",
    "                    times += 1\n",
    "                if times > 0:\n",
    "                    salaries.append(salary / times)\n",
    "    return salaries"
   ]
  },
  {
   "cell_type": "markdown",
   "metadata": {},
   "source": [
    "## Средняя з/п:"
   ]
  },
  {
   "cell_type": "code",
   "execution_count": 112,
   "metadata": {},
   "outputs": [
    {
     "data": {
      "text/plain": [
       "117518.62903225806"
      ]
     },
     "execution_count": 112,
     "metadata": {},
     "output_type": "execute_result"
    }
   ],
   "source": [
    "mean(GetSalaries())"
   ]
  },
  {
   "cell_type": "code",
   "execution_count": null,
   "metadata": {},
   "outputs": [],
   "source": []
  }
 ],
 "metadata": {
  "kernelspec": {
   "display_name": "Python 3",
   "language": "python",
   "name": "python3"
  },
  "language_info": {
   "codemirror_mode": {
    "name": "ipython",
    "version": 3
   },
   "file_extension": ".py",
   "mimetype": "text/x-python",
   "name": "python",
   "nbconvert_exporter": "python",
   "pygments_lexer": "ipython3",
   "version": "3.8.1"
  }
 },
 "nbformat": 4,
 "nbformat_minor": 4
}
